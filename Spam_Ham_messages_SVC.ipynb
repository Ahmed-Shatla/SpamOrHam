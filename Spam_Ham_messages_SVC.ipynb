{
  "nbformat": 4,
  "nbformat_minor": 0,
  "metadata": {
    "colab": {
      "provenance": [],
      "authorship_tag": "ABX9TyNcM5XLzmGN01gMZtUNt+2n",
      "include_colab_link": true
    },
    "kernelspec": {
      "name": "python3",
      "display_name": "Python 3"
    },
    "language_info": {
      "name": "python"
    }
  },
  "cells": [
    {
      "cell_type": "markdown",
      "metadata": {
        "id": "view-in-github",
        "colab_type": "text"
      },
      "source": [
        "<a href=\"https://colab.research.google.com/github/Ahmed-Shatla/SpamOrHam/blob/main/Spam_Ham_messages_SVC.ipynb\" target=\"_parent\"><img src=\"https://colab.research.google.com/assets/colab-badge.svg\" alt=\"Open In Colab\"/></a>"
      ]
    },
    {
      "cell_type": "code",
      "execution_count": null,
      "metadata": {
        "colab": {
          "base_uri": "https://localhost:8080/",
          "height": 206
        },
        "id": "7y6S8w83qvfd",
        "outputId": "59527447-6412-44c9-88ea-7018617bc2ed"
      },
      "outputs": [
        {
          "output_type": "execute_result",
          "data": {
            "text/plain": [
              "  label                                            message  length  punct\n",
              "0   ham  Go until jurong point, crazy.. Available only ...     111      9\n",
              "1   ham                      Ok lar... Joking wif u oni...      29      6\n",
              "2  spam  Free entry in 2 a wkly comp to win FA Cup fina...     155      6\n",
              "3   ham  U dun say so early hor... U c already then say...      49      6\n",
              "4   ham  Nah I don't think he goes to usf, he lives aro...      61      2"
            ],
            "text/html": [
              "\n",
              "  <div id=\"df-f1ac7dcc-b66d-4ba2-97b5-1fed9dd165ee\" class=\"colab-df-container\">\n",
              "    <div>\n",
              "<style scoped>\n",
              "    .dataframe tbody tr th:only-of-type {\n",
              "        vertical-align: middle;\n",
              "    }\n",
              "\n",
              "    .dataframe tbody tr th {\n",
              "        vertical-align: top;\n",
              "    }\n",
              "\n",
              "    .dataframe thead th {\n",
              "        text-align: right;\n",
              "    }\n",
              "</style>\n",
              "<table border=\"1\" class=\"dataframe\">\n",
              "  <thead>\n",
              "    <tr style=\"text-align: right;\">\n",
              "      <th></th>\n",
              "      <th>label</th>\n",
              "      <th>message</th>\n",
              "      <th>length</th>\n",
              "      <th>punct</th>\n",
              "    </tr>\n",
              "  </thead>\n",
              "  <tbody>\n",
              "    <tr>\n",
              "      <th>0</th>\n",
              "      <td>ham</td>\n",
              "      <td>Go until jurong point, crazy.. Available only ...</td>\n",
              "      <td>111</td>\n",
              "      <td>9</td>\n",
              "    </tr>\n",
              "    <tr>\n",
              "      <th>1</th>\n",
              "      <td>ham</td>\n",
              "      <td>Ok lar... Joking wif u oni...</td>\n",
              "      <td>29</td>\n",
              "      <td>6</td>\n",
              "    </tr>\n",
              "    <tr>\n",
              "      <th>2</th>\n",
              "      <td>spam</td>\n",
              "      <td>Free entry in 2 a wkly comp to win FA Cup fina...</td>\n",
              "      <td>155</td>\n",
              "      <td>6</td>\n",
              "    </tr>\n",
              "    <tr>\n",
              "      <th>3</th>\n",
              "      <td>ham</td>\n",
              "      <td>U dun say so early hor... U c already then say...</td>\n",
              "      <td>49</td>\n",
              "      <td>6</td>\n",
              "    </tr>\n",
              "    <tr>\n",
              "      <th>4</th>\n",
              "      <td>ham</td>\n",
              "      <td>Nah I don't think he goes to usf, he lives aro...</td>\n",
              "      <td>61</td>\n",
              "      <td>2</td>\n",
              "    </tr>\n",
              "  </tbody>\n",
              "</table>\n",
              "</div>\n",
              "    <div class=\"colab-df-buttons\">\n",
              "\n",
              "  <div class=\"colab-df-container\">\n",
              "    <button class=\"colab-df-convert\" onclick=\"convertToInteractive('df-f1ac7dcc-b66d-4ba2-97b5-1fed9dd165ee')\"\n",
              "            title=\"Convert this dataframe to an interactive table.\"\n",
              "            style=\"display:none;\">\n",
              "\n",
              "  <svg xmlns=\"http://www.w3.org/2000/svg\" height=\"24px\" viewBox=\"0 -960 960 960\">\n",
              "    <path d=\"M120-120v-720h720v720H120Zm60-500h600v-160H180v160Zm220 220h160v-160H400v160Zm0 220h160v-160H400v160ZM180-400h160v-160H180v160Zm440 0h160v-160H620v160ZM180-180h160v-160H180v160Zm440 0h160v-160H620v160Z\"/>\n",
              "  </svg>\n",
              "    </button>\n",
              "\n",
              "  <style>\n",
              "    .colab-df-container {\n",
              "      display:flex;\n",
              "      gap: 12px;\n",
              "    }\n",
              "\n",
              "    .colab-df-convert {\n",
              "      background-color: #E8F0FE;\n",
              "      border: none;\n",
              "      border-radius: 50%;\n",
              "      cursor: pointer;\n",
              "      display: none;\n",
              "      fill: #1967D2;\n",
              "      height: 32px;\n",
              "      padding: 0 0 0 0;\n",
              "      width: 32px;\n",
              "    }\n",
              "\n",
              "    .colab-df-convert:hover {\n",
              "      background-color: #E2EBFA;\n",
              "      box-shadow: 0px 1px 2px rgba(60, 64, 67, 0.3), 0px 1px 3px 1px rgba(60, 64, 67, 0.15);\n",
              "      fill: #174EA6;\n",
              "    }\n",
              "\n",
              "    .colab-df-buttons div {\n",
              "      margin-bottom: 4px;\n",
              "    }\n",
              "\n",
              "    [theme=dark] .colab-df-convert {\n",
              "      background-color: #3B4455;\n",
              "      fill: #D2E3FC;\n",
              "    }\n",
              "\n",
              "    [theme=dark] .colab-df-convert:hover {\n",
              "      background-color: #434B5C;\n",
              "      box-shadow: 0px 1px 3px 1px rgba(0, 0, 0, 0.15);\n",
              "      filter: drop-shadow(0px 1px 2px rgba(0, 0, 0, 0.3));\n",
              "      fill: #FFFFFF;\n",
              "    }\n",
              "  </style>\n",
              "\n",
              "    <script>\n",
              "      const buttonEl =\n",
              "        document.querySelector('#df-f1ac7dcc-b66d-4ba2-97b5-1fed9dd165ee button.colab-df-convert');\n",
              "      buttonEl.style.display =\n",
              "        google.colab.kernel.accessAllowed ? 'block' : 'none';\n",
              "\n",
              "      async function convertToInteractive(key) {\n",
              "        const element = document.querySelector('#df-f1ac7dcc-b66d-4ba2-97b5-1fed9dd165ee');\n",
              "        const dataTable =\n",
              "          await google.colab.kernel.invokeFunction('convertToInteractive',\n",
              "                                                    [key], {});\n",
              "        if (!dataTable) return;\n",
              "\n",
              "        const docLinkHtml = 'Like what you see? Visit the ' +\n",
              "          '<a target=\"_blank\" href=https://colab.research.google.com/notebooks/data_table.ipynb>data table notebook</a>'\n",
              "          + ' to learn more about interactive tables.';\n",
              "        element.innerHTML = '';\n",
              "        dataTable['output_type'] = 'display_data';\n",
              "        await google.colab.output.renderOutput(dataTable, element);\n",
              "        const docLink = document.createElement('div');\n",
              "        docLink.innerHTML = docLinkHtml;\n",
              "        element.appendChild(docLink);\n",
              "      }\n",
              "    </script>\n",
              "  </div>\n",
              "\n",
              "\n",
              "<div id=\"df-7d9aac6b-6423-41d1-970a-afe285b67d26\">\n",
              "  <button class=\"colab-df-quickchart\" onclick=\"quickchart('df-7d9aac6b-6423-41d1-970a-afe285b67d26')\"\n",
              "            title=\"Suggest charts\"\n",
              "            style=\"display:none;\">\n",
              "\n",
              "<svg xmlns=\"http://www.w3.org/2000/svg\" height=\"24px\"viewBox=\"0 0 24 24\"\n",
              "     width=\"24px\">\n",
              "    <g>\n",
              "        <path d=\"M19 3H5c-1.1 0-2 .9-2 2v14c0 1.1.9 2 2 2h14c1.1 0 2-.9 2-2V5c0-1.1-.9-2-2-2zM9 17H7v-7h2v7zm4 0h-2V7h2v10zm4 0h-2v-4h2v4z\"/>\n",
              "    </g>\n",
              "</svg>\n",
              "  </button>\n",
              "\n",
              "<style>\n",
              "  .colab-df-quickchart {\n",
              "      --bg-color: #E8F0FE;\n",
              "      --fill-color: #1967D2;\n",
              "      --hover-bg-color: #E2EBFA;\n",
              "      --hover-fill-color: #174EA6;\n",
              "      --disabled-fill-color: #AAA;\n",
              "      --disabled-bg-color: #DDD;\n",
              "  }\n",
              "\n",
              "  [theme=dark] .colab-df-quickchart {\n",
              "      --bg-color: #3B4455;\n",
              "      --fill-color: #D2E3FC;\n",
              "      --hover-bg-color: #434B5C;\n",
              "      --hover-fill-color: #FFFFFF;\n",
              "      --disabled-bg-color: #3B4455;\n",
              "      --disabled-fill-color: #666;\n",
              "  }\n",
              "\n",
              "  .colab-df-quickchart {\n",
              "    background-color: var(--bg-color);\n",
              "    border: none;\n",
              "    border-radius: 50%;\n",
              "    cursor: pointer;\n",
              "    display: none;\n",
              "    fill: var(--fill-color);\n",
              "    height: 32px;\n",
              "    padding: 0;\n",
              "    width: 32px;\n",
              "  }\n",
              "\n",
              "  .colab-df-quickchart:hover {\n",
              "    background-color: var(--hover-bg-color);\n",
              "    box-shadow: 0 1px 2px rgba(60, 64, 67, 0.3), 0 1px 3px 1px rgba(60, 64, 67, 0.15);\n",
              "    fill: var(--button-hover-fill-color);\n",
              "  }\n",
              "\n",
              "  .colab-df-quickchart-complete:disabled,\n",
              "  .colab-df-quickchart-complete:disabled:hover {\n",
              "    background-color: var(--disabled-bg-color);\n",
              "    fill: var(--disabled-fill-color);\n",
              "    box-shadow: none;\n",
              "  }\n",
              "\n",
              "  .colab-df-spinner {\n",
              "    border: 2px solid var(--fill-color);\n",
              "    border-color: transparent;\n",
              "    border-bottom-color: var(--fill-color);\n",
              "    animation:\n",
              "      spin 1s steps(1) infinite;\n",
              "  }\n",
              "\n",
              "  @keyframes spin {\n",
              "    0% {\n",
              "      border-color: transparent;\n",
              "      border-bottom-color: var(--fill-color);\n",
              "      border-left-color: var(--fill-color);\n",
              "    }\n",
              "    20% {\n",
              "      border-color: transparent;\n",
              "      border-left-color: var(--fill-color);\n",
              "      border-top-color: var(--fill-color);\n",
              "    }\n",
              "    30% {\n",
              "      border-color: transparent;\n",
              "      border-left-color: var(--fill-color);\n",
              "      border-top-color: var(--fill-color);\n",
              "      border-right-color: var(--fill-color);\n",
              "    }\n",
              "    40% {\n",
              "      border-color: transparent;\n",
              "      border-right-color: var(--fill-color);\n",
              "      border-top-color: var(--fill-color);\n",
              "    }\n",
              "    60% {\n",
              "      border-color: transparent;\n",
              "      border-right-color: var(--fill-color);\n",
              "    }\n",
              "    80% {\n",
              "      border-color: transparent;\n",
              "      border-right-color: var(--fill-color);\n",
              "      border-bottom-color: var(--fill-color);\n",
              "    }\n",
              "    90% {\n",
              "      border-color: transparent;\n",
              "      border-bottom-color: var(--fill-color);\n",
              "    }\n",
              "  }\n",
              "</style>\n",
              "\n",
              "  <script>\n",
              "    async function quickchart(key) {\n",
              "      const quickchartButtonEl =\n",
              "        document.querySelector('#' + key + ' button');\n",
              "      quickchartButtonEl.disabled = true;  // To prevent multiple clicks.\n",
              "      quickchartButtonEl.classList.add('colab-df-spinner');\n",
              "      try {\n",
              "        const charts = await google.colab.kernel.invokeFunction(\n",
              "            'suggestCharts', [key], {});\n",
              "      } catch (error) {\n",
              "        console.error('Error during call to suggestCharts:', error);\n",
              "      }\n",
              "      quickchartButtonEl.classList.remove('colab-df-spinner');\n",
              "      quickchartButtonEl.classList.add('colab-df-quickchart-complete');\n",
              "    }\n",
              "    (() => {\n",
              "      let quickchartButtonEl =\n",
              "        document.querySelector('#df-7d9aac6b-6423-41d1-970a-afe285b67d26 button');\n",
              "      quickchartButtonEl.style.display =\n",
              "        google.colab.kernel.accessAllowed ? 'block' : 'none';\n",
              "    })();\n",
              "  </script>\n",
              "</div>\n",
              "\n",
              "    </div>\n",
              "  </div>\n"
            ],
            "application/vnd.google.colaboratory.intrinsic+json": {
              "type": "dataframe",
              "variable_name": "df",
              "summary": "{\n  \"name\": \"df\",\n  \"rows\": 5572,\n  \"fields\": [\n    {\n      \"column\": \"label\",\n      \"properties\": {\n        \"dtype\": \"category\",\n        \"num_unique_values\": 2,\n        \"samples\": [\n          \"spam\",\n          \"ham\"\n        ],\n        \"semantic_type\": \"\",\n        \"description\": \"\"\n      }\n    },\n    {\n      \"column\": \"message\",\n      \"properties\": {\n        \"dtype\": \"string\",\n        \"num_unique_values\": 5169,\n        \"samples\": [\n          \"K, makes sense, btw carlos is being difficult so you guys are gonna smoke while I go pick up the second batch and get gas\",\n          \"URGENT! Your mobile No *********** WON a \\u00a32,000 Bonus Caller Prize on 02/06/03! This is the 2nd attempt to reach YOU! Call 09066362220 ASAP! BOX97N7QP, 150ppm\"\n        ],\n        \"semantic_type\": \"\",\n        \"description\": \"\"\n      }\n    },\n    {\n      \"column\": \"length\",\n      \"properties\": {\n        \"dtype\": \"number\",\n        \"std\": 59,\n        \"min\": 2,\n        \"max\": 910,\n        \"num_unique_values\": 274,\n        \"samples\": [\n          84,\n          177\n        ],\n        \"semantic_type\": \"\",\n        \"description\": \"\"\n      }\n    },\n    {\n      \"column\": \"punct\",\n      \"properties\": {\n        \"dtype\": \"number\",\n        \"std\": 4,\n        \"min\": 0,\n        \"max\": 133,\n        \"num_unique_values\": 38,\n        \"samples\": [\n          26,\n          36\n        ],\n        \"semantic_type\": \"\",\n        \"description\": \"\"\n      }\n    }\n  ]\n}"
            }
          },
          "metadata": {},
          "execution_count": 3
        }
      ],
      "source": [
        "import numpy as np\n",
        "import pandas as pd\n",
        "\n",
        "df = pd.read_csv('smsspamcollection.tsv', sep='\\t')\n",
        "df.head()"
      ]
    },
    {
      "cell_type": "code",
      "source": [
        "df.isnull().sum()"
      ],
      "metadata": {
        "colab": {
          "base_uri": "https://localhost:8080/"
        },
        "id": "GGjdFpPerYeq",
        "outputId": "6e86621f-a7ac-4001-fe84-81041b14d12a"
      },
      "execution_count": null,
      "outputs": [
        {
          "output_type": "execute_result",
          "data": {
            "text/plain": [
              "label      0\n",
              "message    0\n",
              "length     0\n",
              "punct      0\n",
              "dtype: int64"
            ]
          },
          "metadata": {},
          "execution_count": 4
        }
      ]
    },
    {
      "cell_type": "code",
      "source": [
        "df['label'].value_counts()"
      ],
      "metadata": {
        "colab": {
          "base_uri": "https://localhost:8080/"
        },
        "id": "r1WmK90SsM-7",
        "outputId": "62a3da82-aa6c-42ca-b3be-a59f28f4cd23"
      },
      "execution_count": null,
      "outputs": [
        {
          "output_type": "execute_result",
          "data": {
            "text/plain": [
              "ham     4825\n",
              "spam     747\n",
              "Name: label, dtype: int64"
            ]
          },
          "metadata": {},
          "execution_count": 5
        }
      ]
    },
    {
      "cell_type": "code",
      "source": [
        "from sklearn.model_selection import train_test_split\n",
        "\n",
        "X = df['message']\n",
        "y = df['label']\n",
        "\n",
        "X_train, X_test, y_train, y_test = train_test_split(X, y, test_size=0.30, random_state=32)"
      ],
      "metadata": {
        "id": "DOrCzZXdsOfJ"
      },
      "execution_count": null,
      "outputs": []
    },
    {
      "cell_type": "code",
      "source": [
        "from sklearn.feature_extraction.text import CountVectorizer\n",
        "count_vect = CountVectorizer()\n",
        "\n",
        "X_train_counts = count_vect.fit_transform(X_train)\n",
        "X_train_counts.shape"
      ],
      "metadata": {
        "colab": {
          "base_uri": "https://localhost:8080/"
        },
        "id": "lpxp_l5bscmY",
        "outputId": "4bb2cbea-a1bb-462a-8b18-37bf6941be70"
      },
      "execution_count": null,
      "outputs": [
        {
          "output_type": "execute_result",
          "data": {
            "text/plain": [
              "(3900, 7218)"
            ]
          },
          "metadata": {},
          "execution_count": 8
        }
      ]
    },
    {
      "cell_type": "markdown",
      "source": [
        "**Example**\n",
        "![1_SB8pr1p4yIMq33lFHY1qwQ.png](data:image/png;base64,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)"
      ],
      "metadata": {
        "id": "czLge3qws5A5"
      }
    },
    {
      "cell_type": "markdown",
      "source": [
        "to downscale weights for words that occur in many documents in the corpus and are therefore less informative than those that occur only in a smaller portion of the corpus.\n",
        "\n",
        "This downscaling is called tf–idf for “Term Frequency times Inverse Document Frequency”."
      ],
      "metadata": {
        "id": "ouoxxvett_Es"
      }
    },
    {
      "cell_type": "code",
      "source": [
        "from sklearn.feature_extraction.text import TfidfTransformer\n",
        "tfidf_transformer = TfidfTransformer()\n",
        "\n",
        "X_train_tfidf = tfidf_transformer.fit_transform(X_train_counts)\n",
        "X_train_tfidf.shape"
      ],
      "metadata": {
        "colab": {
          "base_uri": "https://localhost:8080/"
        },
        "id": "gUv7m6pUtyGC",
        "outputId": "390b3e67-e1ef-4c70-d2be-a52fc0efab1d"
      },
      "execution_count": null,
      "outputs": [
        {
          "output_type": "execute_result",
          "data": {
            "text/plain": [
              "(3900, 7218)"
            ]
          },
          "metadata": {},
          "execution_count": 9
        }
      ]
    },
    {
      "cell_type": "markdown",
      "source": [
        "we can combine the CountVectorizer and TfidTransformer steps into one using TfidVectorizer:"
      ],
      "metadata": {
        "id": "FUmFv5JwullU"
      }
    },
    {
      "cell_type": "code",
      "source": [
        "from sklearn.feature_extraction.text import TfidfVectorizer\n",
        "vectorizer = TfidfVectorizer()\n",
        "\n",
        "X_train_tfidf = vectorizer.fit_transform(X_train) # remember to use the original X_train set\n",
        "X_train_tfidf.shape"
      ],
      "metadata": {
        "colab": {
          "base_uri": "https://localhost:8080/"
        },
        "id": "uyD4YhFTuCGG",
        "outputId": "64adffd1-cae5-4099-a281-e02c44f78631"
      },
      "execution_count": null,
      "outputs": [
        {
          "output_type": "execute_result",
          "data": {
            "text/plain": [
              "(3900, 7218)"
            ]
          },
          "metadata": {},
          "execution_count": 10
        }
      ]
    },
    {
      "cell_type": "code",
      "source": [
        "from sklearn.svm import LinearSVC\n",
        "clf = LinearSVC()\n",
        "clf.fit(X_train_tfidf,y_train)"
      ],
      "metadata": {
        "colab": {
          "base_uri": "https://localhost:8080/",
          "height": 75
        },
        "id": "qGZZfgXuuovh",
        "outputId": "c3cab47e-0571-4990-d2e7-bbd079b33e8f"
      },
      "execution_count": null,
      "outputs": [
        {
          "output_type": "execute_result",
          "data": {
            "text/plain": [
              "LinearSVC()"
            ],
            "text/html": [
              "<style>#sk-container-id-1 {color: black;background-color: white;}#sk-container-id-1 pre{padding: 0;}#sk-container-id-1 div.sk-toggleable {background-color: white;}#sk-container-id-1 label.sk-toggleable__label {cursor: pointer;display: block;width: 100%;margin-bottom: 0;padding: 0.3em;box-sizing: border-box;text-align: center;}#sk-container-id-1 label.sk-toggleable__label-arrow:before {content: \"▸\";float: left;margin-right: 0.25em;color: #696969;}#sk-container-id-1 label.sk-toggleable__label-arrow:hover:before {color: black;}#sk-container-id-1 div.sk-estimator:hover label.sk-toggleable__label-arrow:before {color: black;}#sk-container-id-1 div.sk-toggleable__content {max-height: 0;max-width: 0;overflow: hidden;text-align: left;background-color: #f0f8ff;}#sk-container-id-1 div.sk-toggleable__content pre {margin: 0.2em;color: black;border-radius: 0.25em;background-color: #f0f8ff;}#sk-container-id-1 input.sk-toggleable__control:checked~div.sk-toggleable__content {max-height: 200px;max-width: 100%;overflow: auto;}#sk-container-id-1 input.sk-toggleable__control:checked~label.sk-toggleable__label-arrow:before {content: \"▾\";}#sk-container-id-1 div.sk-estimator input.sk-toggleable__control:checked~label.sk-toggleable__label {background-color: #d4ebff;}#sk-container-id-1 div.sk-label input.sk-toggleable__control:checked~label.sk-toggleable__label {background-color: #d4ebff;}#sk-container-id-1 input.sk-hidden--visually {border: 0;clip: rect(1px 1px 1px 1px);clip: rect(1px, 1px, 1px, 1px);height: 1px;margin: -1px;overflow: hidden;padding: 0;position: absolute;width: 1px;}#sk-container-id-1 div.sk-estimator {font-family: monospace;background-color: #f0f8ff;border: 1px dotted black;border-radius: 0.25em;box-sizing: border-box;margin-bottom: 0.5em;}#sk-container-id-1 div.sk-estimator:hover {background-color: #d4ebff;}#sk-container-id-1 div.sk-parallel-item::after {content: \"\";width: 100%;border-bottom: 1px solid gray;flex-grow: 1;}#sk-container-id-1 div.sk-label:hover label.sk-toggleable__label {background-color: #d4ebff;}#sk-container-id-1 div.sk-serial::before {content: \"\";position: absolute;border-left: 1px solid gray;box-sizing: border-box;top: 0;bottom: 0;left: 50%;z-index: 0;}#sk-container-id-1 div.sk-serial {display: flex;flex-direction: column;align-items: center;background-color: white;padding-right: 0.2em;padding-left: 0.2em;position: relative;}#sk-container-id-1 div.sk-item {position: relative;z-index: 1;}#sk-container-id-1 div.sk-parallel {display: flex;align-items: stretch;justify-content: center;background-color: white;position: relative;}#sk-container-id-1 div.sk-item::before, #sk-container-id-1 div.sk-parallel-item::before {content: \"\";position: absolute;border-left: 1px solid gray;box-sizing: border-box;top: 0;bottom: 0;left: 50%;z-index: -1;}#sk-container-id-1 div.sk-parallel-item {display: flex;flex-direction: column;z-index: 1;position: relative;background-color: white;}#sk-container-id-1 div.sk-parallel-item:first-child::after {align-self: flex-end;width: 50%;}#sk-container-id-1 div.sk-parallel-item:last-child::after {align-self: flex-start;width: 50%;}#sk-container-id-1 div.sk-parallel-item:only-child::after {width: 0;}#sk-container-id-1 div.sk-dashed-wrapped {border: 1px dashed gray;margin: 0 0.4em 0.5em 0.4em;box-sizing: border-box;padding-bottom: 0.4em;background-color: white;}#sk-container-id-1 div.sk-label label {font-family: monospace;font-weight: bold;display: inline-block;line-height: 1.2em;}#sk-container-id-1 div.sk-label-container {text-align: center;}#sk-container-id-1 div.sk-container {/* jupyter's `normalize.less` sets `[hidden] { display: none; }` but bootstrap.min.css set `[hidden] { display: none !important; }` so we also need the `!important` here to be able to override the default hidden behavior on the sphinx rendered scikit-learn.org. See: https://github.com/scikit-learn/scikit-learn/issues/21755 */display: inline-block !important;position: relative;}#sk-container-id-1 div.sk-text-repr-fallback {display: none;}</style><div id=\"sk-container-id-1\" class=\"sk-top-container\"><div class=\"sk-text-repr-fallback\"><pre>LinearSVC()</pre><b>In a Jupyter environment, please rerun this cell to show the HTML representation or trust the notebook. <br />On GitHub, the HTML representation is unable to render, please try loading this page with nbviewer.org.</b></div><div class=\"sk-container\" hidden><div class=\"sk-item\"><div class=\"sk-estimator sk-toggleable\"><input class=\"sk-toggleable__control sk-hidden--visually\" id=\"sk-estimator-id-1\" type=\"checkbox\" checked><label for=\"sk-estimator-id-1\" class=\"sk-toggleable__label sk-toggleable__label-arrow\">LinearSVC</label><div class=\"sk-toggleable__content\"><pre>LinearSVC()</pre></div></div></div></div></div>"
            ]
          },
          "metadata": {},
          "execution_count": 11
        }
      ]
    },
    {
      "cell_type": "markdown",
      "source": [
        "Remember that only our training set has been vectorized into a full vocabulary. In order to perform an analysis on our test set we'll have to submit it to the same procedures. Fortunately scikit-learn offers a Pipeline class that behaves like a compound classifier."
      ],
      "metadata": {
        "id": "pKXKwt59uwjz"
      }
    },
    {
      "cell_type": "code",
      "source": [
        "from sklearn.pipeline import Pipeline\n",
        "# from sklearn.feature_extraction.text import TfidfVectorizer\n",
        "# from sklearn.svm import LinearSVC\n",
        "\n",
        "text_clf = Pipeline([('tfidf', TfidfVectorizer()),\n",
        "                     ('clf', LinearSVC()),\n",
        "])\n",
        "\n",
        "# Feed the training data through the pipeline\n",
        "text_clf.fit(X_train, y_train)"
      ],
      "metadata": {
        "colab": {
          "base_uri": "https://localhost:8080/",
          "height": 126
        },
        "id": "C8s1nzw0up_x",
        "outputId": "e6732373-06e3-41d4-ba0e-2f4747f37b61"
      },
      "execution_count": null,
      "outputs": [
        {
          "output_type": "execute_result",
          "data": {
            "text/plain": [
              "Pipeline(steps=[('tfidf', TfidfVectorizer()), ('clf', LinearSVC())])"
            ],
            "text/html": [
              "<style>#sk-container-id-2 {color: black;background-color: white;}#sk-container-id-2 pre{padding: 0;}#sk-container-id-2 div.sk-toggleable {background-color: white;}#sk-container-id-2 label.sk-toggleable__label {cursor: pointer;display: block;width: 100%;margin-bottom: 0;padding: 0.3em;box-sizing: border-box;text-align: center;}#sk-container-id-2 label.sk-toggleable__label-arrow:before {content: \"▸\";float: left;margin-right: 0.25em;color: #696969;}#sk-container-id-2 label.sk-toggleable__label-arrow:hover:before {color: black;}#sk-container-id-2 div.sk-estimator:hover label.sk-toggleable__label-arrow:before {color: black;}#sk-container-id-2 div.sk-toggleable__content {max-height: 0;max-width: 0;overflow: hidden;text-align: left;background-color: #f0f8ff;}#sk-container-id-2 div.sk-toggleable__content pre {margin: 0.2em;color: black;border-radius: 0.25em;background-color: #f0f8ff;}#sk-container-id-2 input.sk-toggleable__control:checked~div.sk-toggleable__content {max-height: 200px;max-width: 100%;overflow: auto;}#sk-container-id-2 input.sk-toggleable__control:checked~label.sk-toggleable__label-arrow:before {content: \"▾\";}#sk-container-id-2 div.sk-estimator input.sk-toggleable__control:checked~label.sk-toggleable__label {background-color: #d4ebff;}#sk-container-id-2 div.sk-label input.sk-toggleable__control:checked~label.sk-toggleable__label {background-color: #d4ebff;}#sk-container-id-2 input.sk-hidden--visually {border: 0;clip: rect(1px 1px 1px 1px);clip: rect(1px, 1px, 1px, 1px);height: 1px;margin: -1px;overflow: hidden;padding: 0;position: absolute;width: 1px;}#sk-container-id-2 div.sk-estimator {font-family: monospace;background-color: #f0f8ff;border: 1px dotted black;border-radius: 0.25em;box-sizing: border-box;margin-bottom: 0.5em;}#sk-container-id-2 div.sk-estimator:hover {background-color: #d4ebff;}#sk-container-id-2 div.sk-parallel-item::after {content: \"\";width: 100%;border-bottom: 1px solid gray;flex-grow: 1;}#sk-container-id-2 div.sk-label:hover label.sk-toggleable__label {background-color: #d4ebff;}#sk-container-id-2 div.sk-serial::before {content: \"\";position: absolute;border-left: 1px solid gray;box-sizing: border-box;top: 0;bottom: 0;left: 50%;z-index: 0;}#sk-container-id-2 div.sk-serial {display: flex;flex-direction: column;align-items: center;background-color: white;padding-right: 0.2em;padding-left: 0.2em;position: relative;}#sk-container-id-2 div.sk-item {position: relative;z-index: 1;}#sk-container-id-2 div.sk-parallel {display: flex;align-items: stretch;justify-content: center;background-color: white;position: relative;}#sk-container-id-2 div.sk-item::before, #sk-container-id-2 div.sk-parallel-item::before {content: \"\";position: absolute;border-left: 1px solid gray;box-sizing: border-box;top: 0;bottom: 0;left: 50%;z-index: -1;}#sk-container-id-2 div.sk-parallel-item {display: flex;flex-direction: column;z-index: 1;position: relative;background-color: white;}#sk-container-id-2 div.sk-parallel-item:first-child::after {align-self: flex-end;width: 50%;}#sk-container-id-2 div.sk-parallel-item:last-child::after {align-self: flex-start;width: 50%;}#sk-container-id-2 div.sk-parallel-item:only-child::after {width: 0;}#sk-container-id-2 div.sk-dashed-wrapped {border: 1px dashed gray;margin: 0 0.4em 0.5em 0.4em;box-sizing: border-box;padding-bottom: 0.4em;background-color: white;}#sk-container-id-2 div.sk-label label {font-family: monospace;font-weight: bold;display: inline-block;line-height: 1.2em;}#sk-container-id-2 div.sk-label-container {text-align: center;}#sk-container-id-2 div.sk-container {/* jupyter's `normalize.less` sets `[hidden] { display: none; }` but bootstrap.min.css set `[hidden] { display: none !important; }` so we also need the `!important` here to be able to override the default hidden behavior on the sphinx rendered scikit-learn.org. See: https://github.com/scikit-learn/scikit-learn/issues/21755 */display: inline-block !important;position: relative;}#sk-container-id-2 div.sk-text-repr-fallback {display: none;}</style><div id=\"sk-container-id-2\" class=\"sk-top-container\"><div class=\"sk-text-repr-fallback\"><pre>Pipeline(steps=[(&#x27;tfidf&#x27;, TfidfVectorizer()), (&#x27;clf&#x27;, LinearSVC())])</pre><b>In a Jupyter environment, please rerun this cell to show the HTML representation or trust the notebook. <br />On GitHub, the HTML representation is unable to render, please try loading this page with nbviewer.org.</b></div><div class=\"sk-container\" hidden><div class=\"sk-item sk-dashed-wrapped\"><div class=\"sk-label-container\"><div class=\"sk-label sk-toggleable\"><input class=\"sk-toggleable__control sk-hidden--visually\" id=\"sk-estimator-id-2\" type=\"checkbox\" ><label for=\"sk-estimator-id-2\" class=\"sk-toggleable__label sk-toggleable__label-arrow\">Pipeline</label><div class=\"sk-toggleable__content\"><pre>Pipeline(steps=[(&#x27;tfidf&#x27;, TfidfVectorizer()), (&#x27;clf&#x27;, LinearSVC())])</pre></div></div></div><div class=\"sk-serial\"><div class=\"sk-item\"><div class=\"sk-estimator sk-toggleable\"><input class=\"sk-toggleable__control sk-hidden--visually\" id=\"sk-estimator-id-3\" type=\"checkbox\" ><label for=\"sk-estimator-id-3\" class=\"sk-toggleable__label sk-toggleable__label-arrow\">TfidfVectorizer</label><div class=\"sk-toggleable__content\"><pre>TfidfVectorizer()</pre></div></div></div><div class=\"sk-item\"><div class=\"sk-estimator sk-toggleable\"><input class=\"sk-toggleable__control sk-hidden--visually\" id=\"sk-estimator-id-4\" type=\"checkbox\" ><label for=\"sk-estimator-id-4\" class=\"sk-toggleable__label sk-toggleable__label-arrow\">LinearSVC</label><div class=\"sk-toggleable__content\"><pre>LinearSVC()</pre></div></div></div></div></div></div></div>"
            ]
          },
          "metadata": {},
          "execution_count": 12
        }
      ]
    },
    {
      "cell_type": "code",
      "source": [
        "predictions = text_clf.predict(X_test)"
      ],
      "metadata": {
        "id": "5UJuvfXCux9Z"
      },
      "execution_count": null,
      "outputs": []
    },
    {
      "cell_type": "code",
      "source": [
        "from sklearn import metrics\n",
        "print(metrics.confusion_matrix(y_test,predictions))"
      ],
      "metadata": {
        "colab": {
          "base_uri": "https://localhost:8080/"
        },
        "id": "FnGjarOXu0hB",
        "outputId": "e0cd5ab3-3d92-4f2a-9375-9a45eb9c09a4"
      },
      "execution_count": null,
      "outputs": [
        {
          "output_type": "stream",
          "name": "stdout",
          "text": [
            "[[1429    6]\n",
            " [  18  219]]\n"
          ]
        }
      ]
    },
    {
      "cell_type": "code",
      "source": [
        "print(metrics.classification_report(y_test,predictions))"
      ],
      "metadata": {
        "colab": {
          "base_uri": "https://localhost:8080/"
        },
        "id": "de-1S9EAu3ra",
        "outputId": "e1287353-52c6-4fe2-db89-2b4555ea9870"
      },
      "execution_count": null,
      "outputs": [
        {
          "output_type": "stream",
          "name": "stdout",
          "text": [
            "              precision    recall  f1-score   support\n",
            "\n",
            "         ham       0.99      1.00      0.99      1435\n",
            "        spam       0.97      0.92      0.95       237\n",
            "\n",
            "    accuracy                           0.99      1672\n",
            "   macro avg       0.98      0.96      0.97      1672\n",
            "weighted avg       0.99      0.99      0.99      1672\n",
            "\n"
          ]
        }
      ]
    },
    {
      "cell_type": "code",
      "source": [
        "print(metrics.accuracy_score(y_test,predictions))"
      ],
      "metadata": {
        "colab": {
          "base_uri": "https://localhost:8080/"
        },
        "id": "zmRBa1x1vB8b",
        "outputId": "f210869c-33f9-420b-f44e-3a36fe4d8617"
      },
      "execution_count": null,
      "outputs": [
        {
          "output_type": "stream",
          "name": "stdout",
          "text": [
            "0.9856459330143541\n"
          ]
        }
      ]
    },
    {
      "cell_type": "code",
      "source": [
        "text_clf.predict(['Hi how are you?'])"
      ],
      "metadata": {
        "colab": {
          "base_uri": "https://localhost:8080/"
        },
        "id": "yPekkkqYvJFT",
        "outputId": "6321c91d-bb35-4463-8560-ca646fa8a47b"
      },
      "execution_count": null,
      "outputs": [
        {
          "output_type": "execute_result",
          "data": {
            "text/plain": [
              "array(['ham'], dtype=object)"
            ]
          },
          "metadata": {},
          "execution_count": 18
        }
      ]
    },
    {
      "cell_type": "code",
      "source": [
        "text_clf.predict(['Congratulation! you have been selected as a winner.  won to 44255'])"
      ],
      "metadata": {
        "colab": {
          "base_uri": "https://localhost:8080/"
        },
        "id": "8dofjiWVvUve",
        "outputId": "20f81a20-f8f1-4e31-9b09-0afa0acc0b1c"
      },
      "execution_count": null,
      "outputs": [
        {
          "output_type": "execute_result",
          "data": {
            "text/plain": [
              "array(['spam'], dtype=object)"
            ]
          },
          "metadata": {},
          "execution_count": 22
        }
      ]
    },
    {
      "cell_type": "code",
      "source": [],
      "metadata": {
        "id": "MNc1Cz2Mvfqr"
      },
      "execution_count": null,
      "outputs": []
    }
  ]
}